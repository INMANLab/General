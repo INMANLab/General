{
 "cells": [
  {
   "cell_type": "markdown",
   "metadata": {},
   "source": [
    "# Block Sorting Algorithm\n",
    "This optimization is modeled after the *multiple knapsacks problem*, in which the goal is to pack a set of items, with given values and sizes into a container with a maximum capacity. In this implementation, the goal is to assign blocks of leads to the Cadwell amplifiers (A-D, 9 rows each).\n",
    "\n",
    "---\n",
    "> Author:    Justin Campbell    \n",
    "> Contact:   justin.campbell@hsc.utah.edu   \n",
    "> Version:   04/10/2024  "
   ]
  },
  {
   "cell_type": "code",
   "execution_count": null,
   "metadata": {},
   "outputs": [],
   "source": [
    "import pandas as pd\n",
    "from ortools.linear_solver import pywraplp"
   ]
  },
  {
   "cell_type": "markdown",
   "metadata": {},
   "source": [
    "### Define Block Map and Amplifier Constraints"
   ]
  },
  {
   "cell_type": "code",
   "execution_count": null,
   "metadata": {},
   "outputs": [],
   "source": [
    "# Filepath for block map (if exists)\n",
    "block_map_file = '/Users/justincampbell/Desktop/BlockMap.csv'"
   ]
  },
  {
   "cell_type": "code",
   "execution_count": null,
   "metadata": {},
   "outputs": [],
   "source": [
    "# Load if block map file exists, otherwise specify manually\n",
    "try:\n",
    "    block_map = pd.read_csv(block_map_file)\n",
    "    block_sizes = block_map['Size'].tolist()\n",
    "    block_values = block_map['Value'].tolist()\n",
    "    block_labels = block_map['Label'].tolist()\n",
    "\n",
    "except:\n",
    "    block_sizes = [\n",
    "        5, 5, 4, 4, \n",
    "        5, 5, 5, 4, \n",
    "        4, 4, 5, 5, \n",
    "        5, 2, 2, 2]\n",
    "\n",
    "    block_values = [ \n",
    "        1, 1, 1, 1, \n",
    "        1, 1, 1, 1, \n",
    "        1, 1, 1, 1, \n",
    "        1, 1, 1, 1]\n",
    "\n",
    "    block_labels = [\n",
    "        'LCM', 'LAINS', 'LPHIP', 'LAHIP', \n",
    "        'LPINS', 'RAINS', 'RPINS', 'RPHIP', \n",
    "        'RAHIP', 'RAMY', 'RACC', 'ROFC', \n",
    "        'ANT', 'LACC', 'LOFC', 'LAMY']\n",
    "    \n",
    "    block_map = pd.DataFrame({'Label': block_labels, 'Size': block_sizes, 'Value': block_values})\n",
    "\n",
    "# Display\n",
    "block_map"
   ]
  },
  {
   "cell_type": "code",
   "execution_count": null,
   "metadata": {},
   "outputs": [],
   "source": [
    "# Amplifier constraints\n",
    "amp_labels = ['A', 'B', 'C', 'D']\n",
    "amp_size = 9\n",
    "available_amps = 4 # modify if D is occupied by microelectrodes"
   ]
  },
  {
   "cell_type": "markdown",
   "metadata": {},
   "source": [
    "### Setup Solver"
   ]
  },
  {
   "cell_type": "code",
   "execution_count": null,
   "metadata": {},
   "outputs": [],
   "source": [
    "# Create variables\n",
    "data = {}\n",
    "data[\"sizes\"] = block_sizes\n",
    "data[\"values\"] = block_values\n",
    "data[\"num_blocks\"] = len(data[\"sizes\"])\n",
    "data[\"all_blocks\"] = range(data[\"num_blocks\"])\n",
    "data[\"amp_capacity\"] = [amp_size] * available_amps\n",
    "data[\"num_amps\"] = len(data[\"amp_capacity\"])\n",
    "data[\"all_amps\"] = range(data[\"num_amps\"])"
   ]
  },
  {
   "cell_type": "code",
   "execution_count": null,
   "metadata": {},
   "outputs": [],
   "source": [
    "solver = pywraplp.Solver.CreateSolver(\"SCIP\")\n",
    "\n",
    "x = {}\n",
    "for i in data[\"all_blocks\"]:\n",
    "    for b in data[\"all_amps\"]:\n",
    "        x[i, b] = solver.BoolVar(f\"x_{i}_{b}\")\n",
    "\n",
    "# Each block is assigned to at most one amplifier\n",
    "for i in data[\"all_blocks\"]:\n",
    "    solver.Add(sum(x[i, b] for b in data[\"all_amps\"]) <= 1)\n",
    "\n",
    "# The number of blocks cannot exceed the amplifier capacity\n",
    "for b in data[\"all_amps\"]:\n",
    "    solver.Add(\n",
    "        sum(x[i, b] * data[\"sizes\"][i] for i in data[\"all_blocks\"])\n",
    "        <= data[\"amp_capacity\"][b])"
   ]
  },
  {
   "cell_type": "code",
   "execution_count": null,
   "metadata": {},
   "outputs": [],
   "source": [
    "# Maximize total value of blocks in amplifiers\n",
    "objective = solver.Objective()\n",
    "for i in data[\"all_blocks\"]:\n",
    "    for b in data[\"all_amps\"]:\n",
    "        objective.SetCoefficient(x[i, b], data[\"values\"][i])\n",
    "        \n",
    "objective.SetMaximization()"
   ]
  },
  {
   "cell_type": "markdown",
   "metadata": {},
   "source": [
    "### Find Optimal Solution"
   ]
  },
  {
   "cell_type": "code",
   "execution_count": null,
   "metadata": {},
   "outputs": [],
   "source": [
    "status = solver.Solve()\n",
    "if status == pywraplp.Solver.OPTIMAL:\n",
    "    print('Suggested Order (Total Combined Value = %.1f):\\n' %objective.Value())\n",
    "    \n",
    "    total_weight = 0\n",
    "    for b in range(available_amps):\n",
    "        print('Amp %s' %amp_labels[b])\n",
    "        bin_weight = 0\n",
    "        bin_value = 0\n",
    "        for i in range(len(block_labels)):\n",
    "            if x[i, b].solution_value() > 0:\n",
    "                print('%s (Size: %i, Value: %.1f)' % (block_labels[i], data[\"sizes\"][i], data[\"values\"][i]))\n",
    "                bin_weight += data[\"sizes\"][i]\n",
    "                bin_value += data[\"values\"][i]\n",
    "        print('Blocks Used: %i/%i\\n' %(bin_weight, data[\"amp_capacity\"][b]))\n",
    "        total_weight += bin_weight\n",
    "\n",
    "else:\n",
    "    print('The problem does not have an optimal solution.')"
   ]
  },
  {
   "cell_type": "code",
   "execution_count": null,
   "metadata": {},
   "outputs": [],
   "source": [
    "# Display blocks that are not assigned in map\n",
    "print('Unused Blocks:\\n')\n",
    "for i in range(len(block_labels)):\n",
    "    used = False\n",
    "    for b in range(available_amps):\n",
    "        if x[i, b].solution_value() > 0:\n",
    "            used = True\n",
    "            break\n",
    "    if not used:\n",
    "        print('%s (Size: %i, Value: %.1f)' % (block_labels[i], data[\"sizes\"][i], data[\"values\"][i]))"
   ]
  },
  {
   "cell_type": "code",
   "execution_count": null,
   "metadata": {},
   "outputs": [],
   "source": []
  }
 ],
 "metadata": {
  "kernelspec": {
   "display_name": "Python 3",
   "language": "python",
   "name": "python3"
  },
  "language_info": {
   "codemirror_mode": {
    "name": "ipython",
    "version": 3
   },
   "file_extension": ".py",
   "mimetype": "text/x-python",
   "name": "python",
   "nbconvert_exporter": "python",
   "pygments_lexer": "ipython3",
   "version": "3.9.12"
  }
 },
 "nbformat": 4,
 "nbformat_minor": 2
}
