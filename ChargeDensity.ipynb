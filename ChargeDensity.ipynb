{
 "cells": [
  {
   "cell_type": "markdown",
   "metadata": {},
   "source": [
    "# Charge Density Calculator\n",
    "\n",
    "This notebook contains code for calculating the charge densities resulting from candidate BLAES stimulation parameter sets. The estimated values are compared to the tissue damage thresholds reviewed in [Cogan et al. 2016](https://www.ncbi.nlm.nih.gov/pmc/articles/PMC5386002/). *Note that the returned values are approximations, as the actual charge will vary with tissue type, electrode material, etc*.\n",
    "\n",
    "> Author: Justin Campbell  \n",
    "> Contact: justin.campbell@hsc.utah.edu  \n",
    "> Version: 02/01/24\n",
    "\n",
    "---\n",
    "\n",
    "#### **Charge density** ($\\rho$) is defined as:\n",
    "$$\n",
    "\\rho = \\frac{Q}{A}\n",
    "$$\n",
    "\n",
    "$$\n",
    "Q = I \\times t  \n",
    "$$\n",
    "$$\n",
    "A = 2\\pi rh + \\pi r^2\n",
    "$$\n",
    "\n",
    "where,  \n",
    "<br>\n",
    "$Q = \\text{charge per phase (C)}$,  \n",
    "$I = \\text{current (A)}$,  \n",
    "$t = \\text{pulse width (s)}$,  \n",
    "$A = \\text{electrode contact surface area (mm2)}$,  \n",
    "$r = \\text{electrode contact radius (mm)}$,  \n",
    "$h = \\text{electrode contact height (mm)}$"
   ]
  },
  {
   "cell_type": "markdown",
   "metadata": {},
   "source": [
    "#### **Cogan et al. 2016 (Figure 3)**\n",
    "Meta-analysis of tissue damage thresholds during various forms of therapeutic electrical stimulation."
   ]
  },
  {
   "cell_type": "markdown",
   "metadata": {},
   "source": [
    "![Cogan Fig 3.](Cogan2016Fig3.jpg)"
   ]
  },
  {
   "cell_type": "markdown",
   "metadata": {},
   "source": [
    "### Implementation"
   ]
  },
  {
   "cell_type": "code",
   "execution_count": 1,
   "metadata": {},
   "outputs": [],
   "source": [
    "import numpy as np"
   ]
  },
  {
   "cell_type": "code",
   "execution_count": 2,
   "metadata": {},
   "outputs": [],
   "source": [
    "def calcChargeDensity(I, t, elec = None, d = None, h = None, returnVars = False):\n",
    "    '''\n",
    "    Calculate the charge density of the electrode\n",
    "    \n",
    "    Inputs:\n",
    "    I: current (mA)\n",
    "    t: pulse-width (uS)\n",
    "    elec: type of electrode ('PMT', 'AdTech', or 'DIXI') [optional]\n",
    "    d: diameter of the electrode (mm) [optional]\n",
    "    h: height of the electrode (mm) [optional]\n",
    "    Return: if True, return the rho and Q\n",
    "    \n",
    "    Outputs:\n",
    "    rho: charge density (uC / mm^2) [log10 scale]\n",
    "    Q: charge per phase (uC) [log10 scale]\n",
    "    '''\n",
    "    \n",
    "    # Electrode geometries (in mm); per Supplementary Table 2 in Davis et al. 2021\n",
    "    if elec == 'PMT':\n",
    "        # PMT2102\n",
    "        d = 0.8\n",
    "        h = 2\n",
    "    elif elec == 'AdTech':\n",
    "        # RD**R-SP05X-000\n",
    "        d = 0.86\n",
    "        h = 2.29\n",
    "    elif elec == 'BF':\n",
    "        #BF08R-SP05X-000\n",
    "        d = 1.28\n",
    "        h = 1.57\n",
    "    elif elec == 'DIXI':\n",
    "        # Microdeep D08\n",
    "        d = 0.8\n",
    "        h = 2\n",
    "    elif (d is not None) and (h is not None):\n",
    "        elec = 'Custom'\n",
    "        pass\n",
    "    else:\n",
    "        print(\"Invalid electrode type! Must specify 'PMT', 'AdTech', 'DIXI', or values for d and h.\")\n",
    "        return\n",
    "    \n",
    "    Q = ((I/1e3) * (t/1e6)) * 1e6 # charge per phase (uC); convert mA to A and uS to s\n",
    "    A = ((2 * np.pi * (d/2) * h) + (np.pi * (d/2)**2)) / 100 # surface area of the electrode (cm^2)\n",
    "    rho = Q / A # charge density (uC / cm^2)\n",
    "    \n",
    "    # Convert rho and Q to facilitate comparison with Cogan et al. 2016\n",
    "    rho_log10 = np.log10(rho) # convert rho to log10(uC / cm^2) \n",
    "    Q_log10 = np.log10(Q) # convert Q to log10(uC)\n",
    "    \n",
    "    if returnVars:\n",
    "        return rho, Q\n",
    "    else:\n",
    "        # Display\n",
    "        print('Electrode: %s (%.2fmm x %.2fmm):' % (elec, d, h))\n",
    "        print('    Amperage: %.2f (mA)' % I)\n",
    "        print('    Pulse-width: %.2f (uS)' % t)\n",
    "        print('    Charge per phase: %.2f, %.2f (uC, log10)' %(Q, Q_log10))\n",
    "        print('    Charge density: %.2f, %.2f (uC/cm^2, log10)' %(rho, rho_log10))\n",
    "        print('')"
   ]
  },
  {
   "cell_type": "code",
   "execution_count": 3,
   "metadata": {},
   "outputs": [
    {
     "name": "stdout",
     "output_type": "stream",
     "text": [
      "Electrode: PMT (0.80mm x 2.00mm):\n",
      "    Amperage: 1.00 (mA)\n",
      "    Pulse-width: 250.00 (uS)\n",
      "    Charge per phase: 0.25, -0.60 (uC, log10)\n",
      "    Charge density: 4.52, 0.66 (uC/cm^2, log10)\n",
      "\n",
      "Electrode: PMT (0.80mm x 2.00mm):\n",
      "    Amperage: 1.00 (mA)\n",
      "    Pulse-width: 500.00 (uS)\n",
      "    Charge per phase: 0.50, -0.30 (uC, log10)\n",
      "    Charge density: 9.04, 0.96 (uC/cm^2, log10)\n",
      "\n",
      "Electrode: PMT (0.80mm x 2.00mm):\n",
      "    Amperage: 2.00 (mA)\n",
      "    Pulse-width: 250.00 (uS)\n",
      "    Charge per phase: 0.50, -0.30 (uC, log10)\n",
      "    Charge density: 9.04, 0.96 (uC/cm^2, log10)\n",
      "\n",
      "Electrode: PMT (0.80mm x 2.00mm):\n",
      "    Amperage: 2.00 (mA)\n",
      "    Pulse-width: 500.00 (uS)\n",
      "    Charge per phase: 1.00, 0.00 (uC, log10)\n",
      "    Charge density: 18.09, 1.26 (uC/cm^2, log10)\n",
      "\n"
     ]
    }
   ],
   "source": [
    "# Test different amperages (mA) and pulse-widths (uS) for BLAES Paramater Optimization\n",
    "for I in [1, 2]:\n",
    "    for t in [250, 500]:\n",
    "        calcChargeDensity(I, t, elec = 'PMT')"
   ]
  },
  {
   "cell_type": "code",
   "execution_count": null,
   "metadata": {},
   "outputs": [],
   "source": []
  }
 ],
 "metadata": {
  "kernelspec": {
   "display_name": "Python 3",
   "language": "python",
   "name": "python3"
  },
  "language_info": {
   "codemirror_mode": {
    "name": "ipython",
    "version": 3
   },
   "file_extension": ".py",
   "mimetype": "text/x-python",
   "name": "python",
   "nbconvert_exporter": "python",
   "pygments_lexer": "ipython3",
   "version": "3.10.8"
  }
 },
 "nbformat": 4,
 "nbformat_minor": 2
}
